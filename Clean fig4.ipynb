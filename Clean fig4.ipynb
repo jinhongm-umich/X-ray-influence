{
 "cells": [
  {
   "cell_type": "code",
   "execution_count": 29,
   "metadata": {},
   "outputs": [],
   "source": [
    "from pathlib import Path\n",
    "import numpy as np\n",
    "import pandas as pd\n",
    "from scipy import stats\n",
    "import matplotlib.pyplot as plt\n",
    "from matplotlib import rcParams\n",
    "import os\n",
    "from pathlib import Path\n",
    "\n",
    "import warnings\n",
    "warnings.filterwarnings(\"ignore\", category=UserWarning, module=\"openpyxl\")\n",
    "\n",
    "\n",
    "# Set figure parameters\n",
    "fig_width = 4 #ECS spec is 3.25\" width\n",
    "fig_width_2col_inches = 7\n",
    "fig_width_3col_inches = 10\n",
    "fig_height = (3/4)*fig_width # standard ratio\n",
    "\n",
    "rcParams['figure.autolayout'] = True\n",
    "rcParams['lines.linewidth'] = 1.0\n",
    "rcParams['font.size'] = 8\n",
    "rcParams['font.sans-serif'] = 'Arial'\n",
    "rcParams['mathtext.fontset'] = 'custom'\n",
    "rcParams['mathtext.rm'] = 'Arial'\n",
    "rcParams['pdf.fonttype'] = 42\n",
    "rcParams['ps.fonttype'] = 42\n",
    "\n",
    "rcParams['lines.markersize'] = 5\n",
    "rcParams['legend.fontsize'] = 7\n",
    "rcParams['legend.frameon'] = False\n",
    "rcParams['xtick.bottom'] = False\n",
    "rcParams['ytick.direction'] = 'in' "
   ]
  },
  {
   "cell_type": "code",
   "execution_count": 33,
   "metadata": {},
   "outputs": [
    {
     "data": {
      "image/png": "[encoded data removed]",
      "text/plain": [
       "<Figure size 400x300 with 1 Axes>"
      ]
     },
     "metadata": {},
     "output_type": "display_data"
    }
   ],
   "source": [
    "import pandas as pd\n",
    "import matplotlib.pyplot as plt\n",
    "\n",
    "# 파일 경로 설정\n",
    "file_path = 'EVE before and after core area.csv'\n",
    "data = pd.read_csv(file_path)\n",
    "\n",
    "# 순서 지정\n",
    "order = ['No X-ray - 0 cycle', '2 minutes - 0 cycle', '1 hour - 0 cycle', \n",
    "         'No X-ray - 300 cycles', '2 minutes - 300 cycles', '1 hour - 300 cycles']\n",
    "\n",
    "# 그룹을 순서대로 설정\n",
    "data['Group'] = pd.Categorical(data['Group'], categories=order, ordered=True)\n",
    "\n",
    "# 플롯 크기 설정\n",
    "fig, ax = plt.subplots(figsize=(fig_width, fig_height))\n",
    "\n",
    "# 박스 플롯 그리기\n",
    "boxplot = ax.boxplot([data[data['Group'] == group]['Average'] for group in order], \n",
    "                     patch_artist=True, showfliers=False)\n",
    "\n",
    "# 박스 색깔 설정 (2 minutes는 파랑, 1 hour은 빨강)\n",
    "colors =['white', '#ADD8E6', '#FFC0CB', 'white', '#ADD8E6', '#FFC0CB']  # 파스텔 핑크, 블루, 라이트 핑크\n",
    "\n",
    "\n",
    "# 각 박스의 색깔 적용\n",
    "for patch, color in zip(boxplot['boxes'], colors):\n",
    "    patch.set_facecolor(color)\n",
    "\n",
    "# 개별 데이터 포인트 오버레이\n",
    "for i, group in enumerate(order):\n",
    "    group_data = data[data['Group'] == group]\n",
    "    ax.plot([i+1] * len(group_data), group_data['Average'], 'ko', markersize=3)  # 'ko'는 검은색 점\n",
    "\n",
    "# x축 레이블에서 '-'을 기준으로 줄바꿈\n",
    "group_labels = [group.replace(' - ', '\\n') for group in order]\n",
    "\n",
    "# 제목 및 라벨 설정\n",
    "\n",
    "ax.set_ylabel('Core area [mm$^2$]')\n",
    "ax.set_xticklabels(group_labels, rotation=0, fontsize=7)\n",
    "\n",
    "# 그리드 추가\n",
    "ax.grid(axis='y')\n",
    "\n",
    "# 레이아웃 조정\n",
    "plt.tight_layout()\n",
    "\n",
    "# 플롯 보여주기\n",
    "plt.show()"
   ]
  }
 ],
 "metadata": {
  "kernelspec": {
   "display_name": "glimpse_env",
   "language": "python",
   "name": "python3"
  },
  "language_info": {
   "codemirror_mode": {
    "name": "ipython",
    "version": 3
   },
   "file_extension": ".py",
   "mimetype": "text/x-python",
   "name": "python",
   "nbconvert_exporter": "python",
   "pygments_lexer": "ipython3",
   "version": "3.11.9"
  }
 },
 "nbformat": 4,
 "nbformat_minor": 2
}
