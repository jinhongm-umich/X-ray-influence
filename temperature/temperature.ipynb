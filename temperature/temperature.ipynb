{
 "cells": [
  {
   "cell_type": "markdown",
   "metadata": {},
   "source": [
    "## Temperature monitoring\n",
    "\n",
    "This notebook is used to visualize the temperature of the battery during a 1 hour X-ray exposure experiment.\n",
    "\n",
    "As a simple way to record the data, we took pictures of the thermocouple reader every ~2 minutes with a cell phone.\n",
    "\n",
    "I tried to use the `pytesseract` library to extract the temperature from the images. Unfortunately, this didn't quite work (even though it worked perfectly in ChatGPT). Since it's a small dataset, I manually extracted the temperature from the images and saved it in a CSV file."
   ]
  },
  {
   "cell_type": "code",
   "execution_count": 1,
   "metadata": {},
   "outputs": [],
   "source": [
    "from pathlib import Path\n",
    "from pillow_heif import register_heif_opener\n",
    "import pandas as pd\n",
    "import exifread\n",
    "from matplotlib import rcParams\n",
    "import matplotlib.pyplot as plt"
   ]
  },
  {
   "cell_type": "markdown",
   "metadata": {},
   "source": [
    "Regenerate CSV?"
   ]
  },
  {
   "cell_type": "code",
   "execution_count": 2,
   "metadata": {},
   "outputs": [],
   "source": [
    "overwrite_csv = False"
   ]
  },
  {
   "cell_type": "markdown",
   "metadata": {},
   "source": [
    "Read in timestamps:"
   ]
  },
  {
   "cell_type": "code",
   "execution_count": 3,
   "metadata": {},
   "outputs": [
    {
     "name": "stdout",
     "output_type": "stream",
     "text": [
      "Data processing complete. Results saved to temperature_data.csv.\n"
     ]
    }
   ],
   "source": [
    "# Register HEIF opener for Pillow\n",
    "register_heif_opener()\n",
    "\n",
    "data = []\n",
    "directory_path = Path().cwd()  # Replace with the path to your directory\n",
    "\n",
    "for k, file_path in enumerate(sorted(directory_path.glob(\"*.HEIC\"))):    \n",
    "    # Extract created timestamp\n",
    "    with open(file_path, \"rb\") as file:\n",
    "        tags = exifread.process_file(file)\n",
    "        created_timestamp = str(tags.get(\"EXIF DateTimeOriginal\", \"Timestamp not found\"))\n",
    "\n",
    "    data.append({\"File Name\": file_path.name, \"Created Timestamp\": created_timestamp, \"Sample temperature (°C)\": \"\", \"Reference temperature (°C)\": \"\"})\n",
    "\n",
    "# Create a DataFrame\n",
    "df = pd.DataFrame(data)\n",
    "\n",
    "# Create relative timestamps\n",
    "df[\"Created Timestamp\"] = pd.to_datetime(df[\"Created Timestamp\"], errors=\"coerce\", format=\"%Y:%m:%d %H:%M:%S\")\n",
    "df = df.sort_values(by=\"Created Timestamp\").reset_index(drop=True)\n",
    "min_timestamp = df[\"Created Timestamp\"].min()\n",
    "df[\"Relative Timestamp (min)\"] = (df[\"Created Timestamp\"] - min_timestamp).dt.total_seconds() / 60\n",
    "\n",
    "# Save the DataFrame to a CSV file\n",
    "if overwrite_csv:\n",
    "    assert 1 == 1#df.to_csv(\"temperature_data.csv\", index=False)\n",
    "\n",
    "print(\"Data processing complete. Results saved to temperature_data.csv.\")"
   ]
  },
  {
   "cell_type": "markdown",
   "metadata": {},
   "source": [
    "At this point, I manually entered the values into the CSV file."
   ]
  },
  {
   "cell_type": "code",
   "execution_count": 4,
   "metadata": {},
   "outputs": [],
   "source": [
    "# Set figure parameters\n",
    "fig_width = 3.25 #ECS spec is 3.25\" width\n",
    "fig_width_2col_inches = 7\n",
    "fig_height = (3/4)*fig_width # standard ratio\n",
    "\n",
    "rcParams['figure.autolayout'] = True\n",
    "rcParams['lines.linewidth'] = 1.0\n",
    "rcParams['font.size'] = 8\n",
    "rcParams['font.sans-serif'] = 'Arial'\n",
    "rcParams['mathtext.fontset'] = 'custom'\n",
    "rcParams['mathtext.rm'] = 'Arial'\n",
    "rcParams['pdf.fonttype'] = 42\n",
    "rcParams['ps.fonttype'] = 42\n",
    "\n",
    "rcParams['lines.markersize'] = 5\n",
    "rcParams['legend.fontsize'] = 7\n",
    "rcParams['xtick.bottom'] = False\n",
    "rcParams['ytick.direction'] = 'in' "
   ]
  },
  {
   "cell_type": "markdown",
   "metadata": {},
   "source": [
    "Read the data back in:"
   ]
  },
  {
   "cell_type": "code",
   "execution_count": 5,
   "metadata": {},
   "outputs": [],
   "source": [
    "df = pd.read_csv(\"temperature_data.csv\")"
   ]
  },
  {
   "cell_type": "markdown",
   "metadata": {},
   "source": [
    "Plot:"
   ]
  },
  {
   "cell_type": "code",
   "execution_count": 7,
   "metadata": {},
   "outputs": [
    {
     "data": {
      "image/png": "[encoded data removed]",
      "text/plain": [
       "<Figure size 325x243.75 with 1 Axes>"
      ]
     },
     "metadata": {},
     "output_type": "display_data"
    }
   ],
   "source": [
    "\n",
    "fig, ax = plt.subplots(figsize=(fig_width, fig_height))\n",
    "\n",
    "plt.plot(df[\"Relative Timestamp (min)\"], df[\"Sample temperature (°C)\"], marker=\"o\", linestyle=\"-\", color=\"blue\", label=\"Sample\")\n",
    "plt.plot(df[\"Relative Timestamp (min)\"], df[\"Reference temperature (°C)\"], marker=\"o\", linestyle=\"-\", color=\"black\", label=\"Reference\")\n",
    "plt.xlabel(\"Time from experiment start (min)\")\n",
    "plt.ylabel(\"Temperature (°C)\")\n",
    "plt.legend()\n",
    "plt.savefig(\"SI temperature.pdf\", dpi=300, bbox_inches=\"tight\", format=\"pdf\")"
   ]
  }
 ],
 "metadata": {
  "kernelspec": {
   "display_name": "Python 3",
   "language": "python",
   "name": "python3"
  },
  "language_info": {
   "codemirror_mode": {
    "name": "ipython",
    "version": 3
   },
   "file_extension": ".py",
   "mimetype": "text/x-python",
   "name": "python",
   "nbconvert_exporter": "python",
   "pygments_lexer": "ipython3",
   "version": "3.11.3"
  }
 },
 "nbformat": 4,
 "nbformat_minor": 2
}
